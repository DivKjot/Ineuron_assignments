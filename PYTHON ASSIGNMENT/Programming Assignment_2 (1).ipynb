{
 "cells": [
  {
   "cell_type": "markdown",
   "id": "08c66ea5",
   "metadata": {
    "id": "08c66ea5"
   },
   "source": [
    "## Programming Assignment_2\n",
    "-------------"
   ]
  },
  {
   "cell_type": "markdown",
   "id": "4e50cf42",
   "metadata": {
    "id": "4e50cf42"
   },
   "source": [
    "1. Write a Python program to convert kilometers to miles?\n"
   ]
  },
  {
   "cell_type": "code",
   "execution_count": 3,
   "id": "d37d8015",
   "metadata": {},
   "outputs": [
    {
     "name": "stdout",
     "output_type": "stream",
     "text": [
      "write the kilometer value : 25\n"
     ]
    },
    {
     "data": {
      "text/plain": [
       "15.53425"
      ]
     },
     "execution_count": 3,
     "metadata": {},
     "output_type": "execute_result"
    }
   ],
   "source": [
    "KM = int(input(\"write the kilometer value : \"))\n",
    "\n",
    "#1 km =0.62137 miles\n",
    "\n",
    "mi = KM*0.62137\n",
    "\n",
    "mi"
   ]
  },
  {
   "cell_type": "markdown",
   "id": "0df4e6bf",
   "metadata": {
    "id": "0df4e6bf"
   },
   "source": [
    "### 2.Write a Python program to convert Celsius to Fahrenheit?"
   ]
  },
  {
   "cell_type": "code",
   "execution_count": 6,
   "id": "720a787d",
   "metadata": {},
   "outputs": [
    {
     "name": "stdout",
     "output_type": "stream",
     "text": [
      "write the Celsius Value : 25\n"
     ]
    },
    {
     "data": {
      "text/plain": [
       "77.0"
      ]
     },
     "execution_count": 6,
     "metadata": {},
     "output_type": "execute_result"
    }
   ],
   "source": [
    "C = int(input(\"write the Celsius Value : \"))\n",
    "\n",
    "# F = C *9/5 + 32\n",
    "\n",
    "F = C *9/5 + 32\n",
    "F"
   ]
  },
  {
   "cell_type": "markdown",
   "id": "Q-iUx4CQoppc",
   "metadata": {
    "id": "Q-iUx4CQoppc"
   },
   "source": []
  },
  {
   "cell_type": "markdown",
   "id": "1749603e",
   "metadata": {},
   "source": [
    "# MARKDOWN"
   ]
  },
  {
   "cell_type": "code",
   "execution_count": 28,
   "id": "2990cbf5",
   "metadata": {},
   "outputs": [
    {
     "name": "stdout",
     "output_type": "stream",
     "text": [
      "LaTeX : α\n"
     ]
    }
   ],
   "source": [
    "#Unicode code point for 𝛼 (U+1D6FC) \n",
    "# pow (base,exp)\n",
    "print(\"LaTeX : \\u03B1\")"
   ]
  },
  {
   "cell_type": "markdown",
   "id": "46129b8e",
   "metadata": {
    "id": "46129b8e"
   },
   "source": [
    "3. Write a Python program to display calendar?\n"
   ]
  },
  {
   "cell_type": "code",
   "execution_count": 9,
   "id": "54e93e9b",
   "metadata": {},
   "outputs": [
    {
     "name": "stdout",
     "output_type": "stream",
     "text": [
      "enter a year : 2023\n",
      "enter a month: 7\n",
      "     July 2023\n",
      "Mo Tu We Th Fr Sa Su\n",
      "                1  2\n",
      " 3  4  5  6  7  8  9\n",
      "10 11 12 13 14 15 16\n",
      "17 18 19 20 21 22 23\n",
      "24 25 26 27 28 29 30\n",
      "31\n",
      "\n"
     ]
    }
   ],
   "source": [
    "import calendar\n",
    "\n",
    "year = int(input(\"enter a year : \"))\n",
    "month = int(input(\"enter a month: \"))\n",
    "\n",
    "print(calendar.month(year,month))"
   ]
  },
  {
   "cell_type": "markdown",
   "id": "db2bf0f7",
   "metadata": {
    "id": "db2bf0f7"
   },
   "source": [
    "### 4. Write a Python program to solve quadratic equation?"
   ]
  },
  {
   "cell_type": "code",
   "execution_count": 22,
   "id": "662f9a7a",
   "metadata": {},
   "outputs": [
    {
     "name": "stdout",
     "output_type": "stream",
     "text": [
      "coefficient of square term: 1\n",
      "coefficient of non square term:  6\n",
      "coefficient of constant: 8\n",
      "value of discriminant:4 \n",
      "1st root: -4.0\n",
      "2nd root: -2.0\n"
     ]
    }
   ],
   "source": [
    "from math import sqrt\n",
    "#let the quadratic equation be : ax^2 +bx +c\n",
    "a = int(input(\"coefficient of square term: \"))\n",
    "b = int(input(\"coefficient of non square term:  \"))\n",
    "c = int(input(\"coefficient of constant: \"))\n",
    "\n",
    "#value of discriminant : d =b^2-4ac\n",
    "d= b**2 -4*a*c\n",
    "print(\"value of discriminant:{} \".format(d) )\n",
    "\n",
    "#Roots of quadratic equation : (-b + - sqrt(d) )/2a\n",
    "r1 = (-b -sqrt(d))/(2*a)\n",
    "r2 = (-b +sqrt(d))/(2*a)\n",
    "\n",
    "print(\"1st root: {}\".format(r1))\n",
    "print(\"2nd root: {}\".format(r2))"
   ]
  },
  {
   "cell_type": "markdown",
   "id": "f70f74c9",
   "metadata": {
    "id": "f70f74c9"
   },
   "source": [
    "5. Write a Python program to swap two variables without temp variable?"
   ]
  },
  {
   "cell_type": "code",
   "execution_count": 24,
   "id": "c1597f0f",
   "metadata": {},
   "outputs": [
    {
     "name": "stdout",
     "output_type": "stream",
     "text": [
      "value of 1st variable before swapping: 10\n",
      "value of 2nd variable before swapping: 20\n",
      "value of 1st variable after swapping:20\n",
      "value of 2nd variable after swapping:10\n"
     ]
    }
   ],
   "source": [
    "a= int(input(\"value of 1st variable before swapping: \"))\n",
    "b= int(input(\"value of 2nd variable before swapping: \"))\n",
    "\n",
    "a=a-b\n",
    "b=a+b\n",
    "a=b-a\n",
    "\n",
    "print(\"value of 1st variable after swapping:{}\".format(a))\n",
    "print(\"value of 2nd variable after swapping:{}\".format(b))"
   ]
  }
 ],
 "metadata": {
  "colab": {
   "provenance": []
  },
  "kernelspec": {
   "display_name": "Python 3 (ipykernel)",
   "language": "python",
   "name": "python3"
  },
  "language_info": {
   "codemirror_mode": {
    "name": "ipython",
    "version": 3
   },
   "file_extension": ".py",
   "mimetype": "text/x-python",
   "name": "python",
   "nbconvert_exporter": "python",
   "pygments_lexer": "ipython3",
   "version": "3.9.13"
  }
 },
 "nbformat": 4,
 "nbformat_minor": 5
}
